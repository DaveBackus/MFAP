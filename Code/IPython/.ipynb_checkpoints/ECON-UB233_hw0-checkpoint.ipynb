{
 "metadata": {
  "name": "",
  "signature": "sha256:ea3a87c119eec284849d67cedcaade02f4642d2a25f71307b35b1ea29cd0d7f6"
 },
 "nbformat": 3,
 "nbformat_minor": 0,
 "worksheets": [
  {
   "cells": [
    {
     "cell_type": "markdown",
     "metadata": {},
     "source": [
      "\n",
      "## Lab Report #0: Python Practice\n",
      "\n",
      "Revised: August 18, 2014\n",
      "\n",
      "*This should be completed before the second class, but you can easily do it before the term starts. It will not be collected or graded, but you should do it anyway. Seriously. You\u2019ll regret it later if you don\u2019t.*\n",
      "\n",
      "Python is a popular high-level computer language, which means it\u2019s easier to use than C++ or Java and (far) more powerful than Excel. It\u2019s widely used in quantitative segments of the business world, including consulting, banking, and asset management.\n",
      "\n",
      "What follows will get you started. It should take you about an hour."
     ]
    },
    {
     "cell_type": "markdown",
     "metadata": {},
     "source": [
      "### 1. Accessing Python.\n",
      "\n",
      "You can access Python in a 3 ways:\n",
      "\n",
      "* wakari.io: A zero-setup (except for creating a *free* account) cloud based scientific python system online.\n",
      "* On your machine. For instructions see [quant-econ.net](http://quant-econ.net/getting_started.html). If you choose this route you should follow the steps there to [install the Anaconda Python distribution](http://quant-econ.net/getting_started.html#installing-anaconda) unless you have prior Python experience.\n",
      "\n",
      "Choose one of the above and launch an IPython shell (enter the command `ipython` from the windows command propt or unix terminal) and type the following commands (you can copy/paste if you'd like -- either way we will need them later on):"
     ]
    },
    {
     "cell_type": "code",
     "collapsed": false,
     "input": [
      "import numpy as np\n",
      "import matplotlib.pyplot as plt\n",
      "import sympy as sym\n",
      "\n",
      "# if you are working in the python notebook enter the command below\n",
      "# otherwise, don't\n",
      "%matplotlib inline"
     ],
     "language": "python",
     "metadata": {},
     "outputs": [],
     "prompt_number": 2
    },
    {
     "cell_type": "markdown",
     "metadata": {},
     "source": [
      "### 2 . Scalar Operations\n",
      "\n",
      "\n",
      "We\u2019ll start by entering commands on the in the IPython interpreter. If you can\u2019t find it, look for `In [1]:` (the \u201cprompt\").\n",
      "\n",
      "#### (a)\n",
      "\n",
      "Type each at the prompt"
     ]
    },
    {
     "cell_type": "code",
     "collapsed": false,
     "input": [
      "x=7"
     ],
     "language": "python",
     "metadata": {},
     "outputs": [],
     "prompt_number": 3
    },
    {
     "cell_type": "code",
     "collapsed": false,
     "input": [
      "x = 7"
     ],
     "language": "python",
     "metadata": {},
     "outputs": [],
     "prompt_number": 4
    },
    {
     "cell_type": "code",
     "collapsed": false,
     "input": [
      "x"
     ],
     "language": "python",
     "metadata": {},
     "outputs": [
      {
       "metadata": {},
       "output_type": "pyout",
       "prompt_number": 5,
       "text": [
        "7"
       ]
      }
     ],
     "prompt_number": 5
    },
    {
     "cell_type": "code",
     "collapsed": false,
     "input": [
      "x/2"
     ],
     "language": "python",
     "metadata": {},
     "outputs": [
      {
       "metadata": {},
       "output_type": "pyout",
       "prompt_number": 6,
       "text": [
        "3.5"
       ]
      }
     ],
     "prompt_number": 6
    },
    {
     "cell_type": "code",
     "collapsed": false,
     "input": [
      "7**2"
     ],
     "language": "python",
     "metadata": {},
     "outputs": [
      {
       "metadata": {},
       "output_type": "pyout",
       "prompt_number": 7,
       "text": [
        "49"
       ]
      }
     ],
     "prompt_number": 7
    },
    {
     "cell_type": "markdown",
     "metadata": {},
     "source": [
      "What do each of these do?"
     ]
    },
    {
     "cell_type": "markdown",
     "metadata": {},
     "source": [
      "#### (b)\n",
      "\n",
      "Now type these:"
     ]
    },
    {
     "cell_type": "code",
     "collapsed": false,
     "input": [
      "np.pi"
     ],
     "language": "python",
     "metadata": {},
     "outputs": [
      {
       "metadata": {},
       "output_type": "pyout",
       "prompt_number": 8,
       "text": [
        "3.141592653589793"
       ]
      }
     ],
     "prompt_number": 8
    },
    {
     "cell_type": "code",
     "collapsed": false,
     "input": [
      "np.exp(1)"
     ],
     "language": "python",
     "metadata": {},
     "outputs": [
      {
       "metadata": {},
       "output_type": "pyout",
       "prompt_number": 9,
       "text": [
        "2.7182818284590451"
       ]
      }
     ],
     "prompt_number": 9
    },
    {
     "cell_type": "code",
     "collapsed": false,
     "input": [
      "e, x = np.exp(2), np.log(x)"
     ],
     "language": "python",
     "metadata": {},
     "outputs": [],
     "prompt_number": 10
    },
    {
     "cell_type": "markdown",
     "metadata": {},
     "source": [
      "What do they do?"
     ]
    },
    {
     "cell_type": "markdown",
     "metadata": {},
     "source": [
      "### 3. Vector Operations\n",
      "\n",
      "NumPy arrays do arithmatic and apply  many functions elementwise. What this means is that you can do a bunch of things at once rather than copying the same command over and over again as you would in (say) Excel. Here\u2019s an example:\n",
      "\n",
      "#### (a) \n",
      "\n",
      "Generate a grid with the command: "
     ]
    },
    {
     "cell_type": "code",
     "collapsed": false,
     "input": [
      "x = np.linspace(-3, 3, 13)"
     ],
     "language": "python",
     "metadata": {},
     "outputs": [],
     "prompt_number": 11
    },
    {
     "cell_type": "markdown",
     "metadata": {},
     "source": [
      "What does `x` look like? (Type `x` at the propt to find out.)"
     ]
    },
    {
     "cell_type": "markdown",
     "metadata": {},
     "source": [
      "#### (b) \n",
      "\n",
      "Now compute $x^2$ for all values of `x`:"
     ]
    },
    {
     "cell_type": "code",
     "collapsed": false,
     "input": [
      "xsquared1 = x**2\n",
      "xsquared2 = x*x\n",
      "\n",
      "xsquared1, xsquared2"
     ],
     "language": "python",
     "metadata": {},
     "outputs": [
      {
       "metadata": {},
       "output_type": "pyout",
       "prompt_number": 12,
       "text": [
        "(array([ 9.  ,  6.25,  4.  ,  2.25,  1.  ,  0.25,  0.  ,  0.25,  1.  ,\n",
        "         2.25,  4.  ,  6.25,  9.  ]),\n",
        " array([ 9.  ,  6.25,  4.  ,  2.25,  1.  ,  0.25,  0.  ,  0.25,  1.  ,\n",
        "         2.25,  4.  ,  6.25,  9.  ]))"
       ]
      }
     ],
     "prompt_number": 12
    },
    {
     "cell_type": "markdown",
     "metadata": {},
     "source": [
      "These two lines do the same thing, namely square each element of x."
     ]
    },
    {
     "cell_type": "markdown",
     "metadata": {},
     "source": [
      "#### (c) \n",
      "\n",
      "Plot the results this way:"
     ]
    },
    {
     "cell_type": "code",
     "collapsed": false,
     "input": [
      "plt.plot(x, xsquared1, \"b\")\n",
      "plt.plot(x, xsquared2, \"r--\")"
     ],
     "language": "python",
     "metadata": {},
     "outputs": [
      {
       "metadata": {},
       "output_type": "pyout",
       "prompt_number": 13,
       "text": [
        "[<matplotlib.lines.Line2D at 0x7e98128>]"
       ]
      },
      {
       "metadata": {},
       "output_type": "display_data",
       "png": "[encoded data removed]",
       "text": [
        "<matplotlib.figure.Figure at 0x7e980f0>"
       ]
      }
     ],
     "prompt_number": 13
    },
    {
     "cell_type": "markdown",
     "metadata": {},
     "source": [
      "Type `plot?` to learn how to control the type and color of lines. Can you make the line red? Magenta? Dashed? Can you replace the line with circles?\n",
      "\n",
      "#### (d) \n",
      "\n",
      "Using the same `x`, plot the functions `st.norm.pdf(x)` and `st.norm.cdf(x)`. (You can enter these expressions directly in the plot command.) Use the `?` magic command (a technical term from IPython) to find out what these functions are \u2014 for example, `st.norm.pdf?`. What do you see? How would you make the line smoother?"
     ]
    },
    {
     "cell_type": "markdown",
     "metadata": {},
     "source": [
      "### 4. Vector Operations (continued)\n",
      "\n",
      "We can also work with data vectors. Suppose, for example, we have five observations of some variable x defined with the command `x = np.array([1, 7, -2, 4, 8])`.\n",
      "\n",
      "Explain each of the following: `np.mean(x)`, `sum(x)`, `np.sum(x)` `len(x)`, `x.size`, `x.shape`, `np.size(x)` and `sum(x)/len(x)`. As we noted earlier, you can get more information about these commands using the `?` magic command at the IPython prompt. You can also Google \"Python command\" (or \"Python *package name* command) or view the documentation for the package being used (try Googling \"numpy documentation\")."
     ]
    },
    {
     "cell_type": "markdown",
     "metadata": {},
     "source": [
      "### 5. Symbolic Math\n",
      "\n",
      "There are lots of computer programs that do symbolic math: solve equations, differentiate functions, and so on. We\u2019ll use Python to derive the moments of the normal distribution from its moment generating function. You\u2019ll use similar commands in future assignments, so pay attention.\n",
      "\n",
      "Type these commands in the command line:"
     ]
    },
    {
     "cell_type": "code",
     "collapsed": false,
     "input": [
      "mu, sigma, s = sym.symbols(\"mu, sigma, s\")\n",
      "mgf = sym.exp(mu*s + (sigma*s)**2/2)\n",
      "mu1 = mgf.diff(s, 1).subs({\"s\": 0})\n",
      "mu2 = mgf.diff(s, 2).subs({\"s\": 0})\n",
      "mu4 = mgf.diff(s, s, s, s).subs({\"s\": 0, \"mu\": 0, \"sigma\": 1})\n",
      "\n",
      "(mu1, mu2, mu4)"
     ],
     "language": "python",
     "metadata": {},
     "outputs": [
      {
       "metadata": {},
       "output_type": "pyout",
       "prompt_number": 14,
       "text": [
        "(mu, mu**2 + sigma**2, 3)"
       ]
      }
     ],
     "prompt_number": 14
    },
    {
     "cell_type": "markdown",
     "metadata": {},
     "source": [
      "What do they do? What happens if you skip the first line? What is `mgf`? What is `mgf.diff(s,2)`? How would you use `?` to find out more about `diff`? What does `subs` do?"
     ]
    },
    {
     "cell_type": "markdown",
     "metadata": {},
     "source": [
      "### 6. Data input and scripts.\n",
      "\n",
      "Our last task is to input data from a spreadsheet using a \"script\": that is, we put the commands in a file so we can run them over again without typing everything in from scratch.\n",
      "\n",
      "#### (a)\n",
      "\n",
      "Enter the following into a spreadsheet\n",
      "\n",
      "\\begin{eqnarray*}\n",
      "    \\begin{array}{cc}\n",
      "        x1 & x2  \\\\ 1 & 2 \\\\ 3 & 4 \\\\ 5 & 6\n",
      "    \\end{array}\n",
      "\\end{eqnarray*}\n",
      "\n",
      "Save it as an Excel workbook with name (say) `testdata.xls`. Make sure you know what directory it\u2019s in.\n",
      "\n",
      "Comments: (i) You can use any file name you like, but the same name must be used in the script below. (ii) You need to do something to tell Python what directory the file is in. How that works depends on what version you\u2019re using.\n",
      "\n",
      "#### (b)\n",
      "\n",
      "We\u2019re going to wite a Python script to read the contents of the spreadsheet into Python. Create a new file in your text editor and enter the following commands:"
     ]
    },
    {
     "cell_type": "code",
     "collapsed": false,
     "input": [
      "\"\"\"\n",
      "Practice script for data input from spreadsheet this is in a docstring\n",
      "\"\"\"\n",
      "import pandas as pd\n",
      "print(\"Spreadsheet input\")\n",
      "\n",
      "# Read in the data -- this is a comment\n",
      "data = pd.read_excel(\"testdata.xlsx\")"
     ],
     "language": "python",
     "metadata": {},
     "outputs": [
      {
       "output_type": "stream",
       "stream": "stdout",
       "text": [
        "Spreadsheet input\n"
       ]
      },
      {
       "ename": "FileNotFoundError",
       "evalue": "[Errno 2] No such file or directory: 'testdata.xlsx'",
       "output_type": "pyerr",
       "traceback": [
        "\u001b[1;31m---------------------------------------------------------------------------\u001b[0m\n\u001b[1;31mFileNotFoundError\u001b[0m                         Traceback (most recent call last)",
        "\u001b[1;32m<ipython-input-15-82d2969dc238>\u001b[0m in \u001b[0;36m<module>\u001b[1;34m()\u001b[0m\n\u001b[0;32m      6\u001b[0m \u001b[1;33m\u001b[0m\u001b[0m\n\u001b[0;32m      7\u001b[0m \u001b[1;31m# Read in the data -- this is a comment\u001b[0m\u001b[1;33m\u001b[0m\u001b[1;33m\u001b[0m\u001b[0m\n\u001b[1;32m----> 8\u001b[1;33m \u001b[0mdata\u001b[0m \u001b[1;33m=\u001b[0m \u001b[0mpd\u001b[0m\u001b[1;33m.\u001b[0m\u001b[0mread_excel\u001b[0m\u001b[1;33m(\u001b[0m\u001b[1;34m\"testdata.xlsx\"\u001b[0m\u001b[1;33m)\u001b[0m\u001b[1;33m\u001b[0m\u001b[0m\n\u001b[0m",
        "\u001b[1;32mC:\\Users\\dbackus\\Anaconda3\\lib\\site-packages\\pandas\\io\\excel.py\u001b[0m in \u001b[0;36mread_excel\u001b[1;34m(io, sheetname, **kwds)\u001b[0m\n\u001b[0;32m    107\u001b[0m     \u001b[0mengine\u001b[0m \u001b[1;33m=\u001b[0m \u001b[0mkwds\u001b[0m\u001b[1;33m.\u001b[0m\u001b[0mpop\u001b[0m\u001b[1;33m(\u001b[0m\u001b[1;34m'engine'\u001b[0m\u001b[1;33m,\u001b[0m \u001b[1;32mNone\u001b[0m\u001b[1;33m)\u001b[0m\u001b[1;33m\u001b[0m\u001b[0m\n\u001b[0;32m    108\u001b[0m \u001b[1;33m\u001b[0m\u001b[0m\n\u001b[1;32m--> 109\u001b[1;33m     \u001b[1;32mreturn\u001b[0m \u001b[0mExcelFile\u001b[0m\u001b[1;33m(\u001b[0m\u001b[0mio\u001b[0m\u001b[1;33m,\u001b[0m \u001b[0mengine\u001b[0m\u001b[1;33m=\u001b[0m\u001b[0mengine\u001b[0m\u001b[1;33m)\u001b[0m\u001b[1;33m.\u001b[0m\u001b[0mparse\u001b[0m\u001b[1;33m(\u001b[0m\u001b[0msheetname\u001b[0m\u001b[1;33m=\u001b[0m\u001b[0msheetname\u001b[0m\u001b[1;33m,\u001b[0m \u001b[1;33m**\u001b[0m\u001b[0mkwds\u001b[0m\u001b[1;33m)\u001b[0m\u001b[1;33m\u001b[0m\u001b[0m\n\u001b[0m\u001b[0;32m    110\u001b[0m \u001b[1;33m\u001b[0m\u001b[0m\n\u001b[0;32m    111\u001b[0m \u001b[1;33m\u001b[0m\u001b[0m\n",
        "\u001b[1;32mC:\\Users\\dbackus\\Anaconda3\\lib\\site-packages\\pandas\\io\\excel.py\u001b[0m in \u001b[0;36m__init__\u001b[1;34m(self, io, **kwds)\u001b[0m\n\u001b[0;32m    140\u001b[0m \u001b[1;33m\u001b[0m\u001b[0m\n\u001b[0;32m    141\u001b[0m         \u001b[1;32mif\u001b[0m \u001b[0misinstance\u001b[0m\u001b[1;33m(\u001b[0m\u001b[0mio\u001b[0m\u001b[1;33m,\u001b[0m \u001b[0mcompat\u001b[0m\u001b[1;33m.\u001b[0m\u001b[0mstring_types\u001b[0m\u001b[1;33m)\u001b[0m\u001b[1;33m:\u001b[0m\u001b[1;33m\u001b[0m\u001b[0m\n\u001b[1;32m--> 142\u001b[1;33m             \u001b[0mself\u001b[0m\u001b[1;33m.\u001b[0m\u001b[0mbook\u001b[0m \u001b[1;33m=\u001b[0m \u001b[0mxlrd\u001b[0m\u001b[1;33m.\u001b[0m\u001b[0mopen_workbook\u001b[0m\u001b[1;33m(\u001b[0m\u001b[0mio\u001b[0m\u001b[1;33m)\u001b[0m\u001b[1;33m\u001b[0m\u001b[0m\n\u001b[0m\u001b[0;32m    143\u001b[0m         \u001b[1;32melif\u001b[0m \u001b[0mengine\u001b[0m \u001b[1;33m==\u001b[0m \u001b[1;34m\"xlrd\"\u001b[0m \u001b[1;32mand\u001b[0m \u001b[0misinstance\u001b[0m\u001b[1;33m(\u001b[0m\u001b[0mio\u001b[0m\u001b[1;33m,\u001b[0m \u001b[0mxlrd\u001b[0m\u001b[1;33m.\u001b[0m\u001b[0mBook\u001b[0m\u001b[1;33m)\u001b[0m\u001b[1;33m:\u001b[0m\u001b[1;33m\u001b[0m\u001b[0m\n\u001b[0;32m    144\u001b[0m             \u001b[0mself\u001b[0m\u001b[1;33m.\u001b[0m\u001b[0mbook\u001b[0m \u001b[1;33m=\u001b[0m \u001b[0mio\u001b[0m\u001b[1;33m\u001b[0m\u001b[0m\n",
        "\u001b[1;32mC:\\Users\\dbackus\\Anaconda3\\lib\\site-packages\\xlrd\\__init__.py\u001b[0m in \u001b[0;36mopen_workbook\u001b[1;34m(filename, logfile, verbosity, use_mmap, file_contents, encoding_override, formatting_info, on_demand, ragged_rows)\u001b[0m\n\u001b[0;32m    392\u001b[0m         \u001b[0mpeek\u001b[0m \u001b[1;33m=\u001b[0m \u001b[0mfile_contents\u001b[0m\u001b[1;33m[\u001b[0m\u001b[1;33m:\u001b[0m\u001b[0mpeeksz\u001b[0m\u001b[1;33m]\u001b[0m\u001b[1;33m\u001b[0m\u001b[0m\n\u001b[0;32m    393\u001b[0m     \u001b[1;32melse\u001b[0m\u001b[1;33m:\u001b[0m\u001b[1;33m\u001b[0m\u001b[0m\n\u001b[1;32m--> 394\u001b[1;33m         \u001b[0mf\u001b[0m \u001b[1;33m=\u001b[0m \u001b[0mopen\u001b[0m\u001b[1;33m(\u001b[0m\u001b[0mfilename\u001b[0m\u001b[1;33m,\u001b[0m \u001b[1;34m\"rb\"\u001b[0m\u001b[1;33m)\u001b[0m\u001b[1;33m\u001b[0m\u001b[0m\n\u001b[0m\u001b[0;32m    395\u001b[0m         \u001b[0mpeek\u001b[0m \u001b[1;33m=\u001b[0m \u001b[0mf\u001b[0m\u001b[1;33m.\u001b[0m\u001b[0mread\u001b[0m\u001b[1;33m(\u001b[0m\u001b[0mpeeksz\u001b[0m\u001b[1;33m)\u001b[0m\u001b[1;33m\u001b[0m\u001b[0m\n\u001b[0;32m    396\u001b[0m         \u001b[0mf\u001b[0m\u001b[1;33m.\u001b[0m\u001b[0mclose\u001b[0m\u001b[1;33m(\u001b[0m\u001b[1;33m)\u001b[0m\u001b[1;33m\u001b[0m\u001b[0m\n",
        "\u001b[1;31mFileNotFoundError\u001b[0m: [Errno 2] No such file or directory: 'testdata.xlsx'"
       ]
      }
     ],
     "prompt_number": 15
    },
    {
     "cell_type": "markdown",
     "metadata": {},
     "source": [
      "Save these commands under some appropriate file name (something ending in `.py`) in the same directory as the spreadsheet.\n",
      "\n",
      "Now run this program within IPython by starting an IPython process in this same directory and entering `run FILENAME.py`, where `FILENAME` is the name you just chose to save those commands under. To see if works, type `data` at the prompt and press enter. If it does, great! If not, welcome to the world of programming, where most of your time is spent fixing bugs. Remind yourself that patience is a virtue. And speak to others about your problem, that often helps even if they don\u2019t have the answer.\n",
      "\n",
      "#### (c)\n",
      "\n",
      "Add to your program a line that plots x1 against x2 and marks each data point with a circle."
     ]
    },
    {
     "cell_type": "markdown",
     "metadata": {},
     "source": [
      "### 7. Functions\n",
      "\n",
      "Python allows you to write functions in a couple ways.\n",
      "\n",
      "#### (a)\n",
      "\n",
      "The most common way is to write the function in a `.py` file using the `def` keyword. Here is an example of what that might look like"
     ]
    },
    {
     "cell_type": "code",
     "collapsed": false,
     "input": [
      "def helloworld(x):\n",
      "    \"\"\"\n",
      "    Comments\n",
      "    \n",
      "    If you type helloworld? you'll get these comments\n",
      "    \n",
      "    The program prints \"Hello World!\" and the value of the variable `x`\n",
      "    \n",
      "    Examples\n",
      "    --------\n",
      "    >>> helloworld(7)\n",
      "    Hello World!\n",
      "    7\n",
      "    >>> helloworld(np.arange(1, 8))\n",
      "    Hello World!\n",
      "    [1 2 3 4 5 6 7]\n",
      "    \"\"\"\n",
      "    print(\"Hello World!\")\n",
      "    print(x)\n",
      "    return"
     ],
     "language": "python",
     "metadata": {},
     "outputs": []
    },
    {
     "cell_type": "markdown",
     "metadata": {},
     "source": [
      "#### (b)\n",
      "\n",
      "A more compact way to write a short function is with an \"anonymous function.\" The terminology is obscure, but here's how it works. Type the commands:"
     ]
    },
    {
     "cell_type": "code",
     "collapsed": false,
     "input": [
      "myfunction = lambda x: x**2\n",
      "myfunction(7)"
     ],
     "language": "python",
     "metadata": {},
     "outputs": [
      {
       "metadata": {},
       "output_type": "pyout",
       "prompt_number": 16,
       "text": [
        "49"
       ]
      }
     ],
     "prompt_number": 16
    },
    {
     "cell_type": "markdown",
     "metadata": {},
     "source": [
      "You should get 49. We'll use something like this when we get to option pricing, where we need to use a long formula repeatedly. More on anonymous functions in the [Python documentation](https://docs.python.org/2/tutorial/controlflow.html#lambda-expressions) or by googling `lambda functions python`."
     ]
    },
    {
     "cell_type": "code",
     "collapsed": false,
     "input": [],
     "language": "python",
     "metadata": {},
     "outputs": [],
     "prompt_number": 16
    },
    {
     "cell_type": "code",
     "collapsed": false,
     "input": [],
     "language": "python",
     "metadata": {},
     "outputs": [],
     "prompt_number": 16
    },
    {
     "cell_type": "code",
     "collapsed": false,
     "input": [],
     "language": "python",
     "metadata": {},
     "outputs": [],
     "prompt_number": 16
    },
    {
     "cell_type": "code",
     "collapsed": false,
     "input": [],
     "language": "python",
     "metadata": {},
     "outputs": [],
     "prompt_number": 16
    },
    {
     "cell_type": "code",
     "collapsed": false,
     "input": [],
     "language": "python",
     "metadata": {},
     "outputs": []
    }
   ],
   "metadata": {}
  }
 ]
}